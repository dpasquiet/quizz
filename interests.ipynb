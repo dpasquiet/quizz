{
 "cells": [
  {
   "cell_type": "code",
   "execution_count": 13,
   "metadata": {},
   "outputs": [],
   "source": [
    "def interest():\n",
    "    try:\n",
    "        initial_amount = float(input(\"What is the amount you want to invest ?\"))\n",
    "        print(initial_amount)\n",
    "        duration = float(input(\"How many years are you going to invest this money ?\"))\n",
    "        print(duration)\n",
    "        interest_rate = float(input(\"What is the rate ? (put a decimal value like 0.10 for 10%)\"))\n",
    "        print(interest_rate)\n",
    "    except ValueError:\n",
    "        raise ValueError(\"Please enter only numbers\")\n",
    "    else:\n",
    "        if (initial_amount < 0) or (duration < 0) or (interest_rate < 0):\n",
    "            raise ValueError(\"You entered one or more negative values. Please type posiitive values !\")\n",
    "        if interest_rate > 1:\n",
    "            raise ValueError(\"You have entered an interest rate greater than 100% (1)\")\n",
    "    total = initial_amount*(1+interest_rate)**(duration)\n",
    "    print (\"The total amount of money you will have after your deposit {:.2f} at the end of {} years with a rate of {} will be : {:.2f}\".format(initial_amount, duration, interest_rate, total))\n",
    "\n"
   ]
  },
  {
   "cell_type": "code",
   "execution_count": 14,
   "metadata": {},
   "outputs": [
    {
     "name": "stdout",
     "output_type": "stream",
     "text": [
      "1000.0\n",
      "2.0\n",
      "0.07\n",
      "The total amount of money you will have after your deposit 1000.00 at the end of 2.0 years with a rate of 0.07 will be : 1144.90\n"
     ]
    }
   ],
   "source": [
    "interest()"
   ]
  },
  {
   "cell_type": "code",
   "execution_count": null,
   "metadata": {},
   "outputs": [],
   "source": []
  }
 ],
 "metadata": {
  "kernelspec": {
   "display_name": "base",
   "language": "python",
   "name": "python3"
  },
  "language_info": {
   "codemirror_mode": {
    "name": "ipython",
    "version": 3
   },
   "file_extension": ".py",
   "mimetype": "text/x-python",
   "name": "python",
   "nbconvert_exporter": "python",
   "pygments_lexer": "ipython3",
   "version": "3.12.7"
  }
 },
 "nbformat": 4,
 "nbformat_minor": 2
}
